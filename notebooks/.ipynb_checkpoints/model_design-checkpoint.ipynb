{
 "cells": [
  {
   "cell_type": "code",
   "execution_count": 1,
   "metadata": {},
   "outputs": [
    {
     "name": "stderr",
     "output_type": "stream",
     "text": [
      "2021-07-19 13:59:44.867548: W tensorflow/stream_executor/platform/default/dso_loader.cc:64] Could not load dynamic library 'libcudart.so.11.0'; dlerror: libcudart.so.11.0: cannot open shared object file: No such file or directory\n",
      "2021-07-19 13:59:44.867635: I tensorflow/stream_executor/cuda/cudart_stub.cc:29] Ignore above cudart dlerror if you do not have a GPU set up on your machine.\n"
     ]
    }
   ],
   "source": [
    "import pandas as pd\n",
    "import datetime\n",
    "\n",
    "from tensorflow.keras.models import Sequential\n",
    "from tensorflow.keras.layers import Dense, Dropout\n",
    "from tensorflow.keras.losses import BinaryCrossentropy\n",
    "from tensorflow.keras.callbacks import TensorBoard\n",
    "from tensorflow.keras.optimizers import Adam\n",
    "from sklearn.preprocessing import StandardScaler, Normalizer, LabelEncoder\n",
    "from sklearn.model_selection import train_test_split\n",
    "\n",
    "from sklearn.metrics import accuracy_score, f1_score\n",
    "from imblearn.under_sampling import RandomUnderSampler\n",
    "\n",
    "pd.options.display.max_columns = 1000\n",
    "pd.options.display.max_rows = 100\n"
   ]
  },
  {
   "cell_type": "markdown",
   "metadata": {},
   "source": [
    "### loading data"
   ]
  },
  {
   "cell_type": "code",
   "execution_count": null,
   "metadata": {},
   "outputs": [],
   "source": [
    "data = pd.read_csv('./data/mini_data.csv', index_col='TransactionID')\n",
    "data.drop(['Unnamed: 0', 'TransactionDT'], axis=1, inplace=True)\n",
    "data.head(5)"
   ]
  },
  {
   "cell_type": "code",
   "execution_count": 2,
   "metadata": {},
   "outputs": [],
   "source": [
    "def get_all_categorical_features():\n",
    "    features = [\n",
    "        'ProductCD',\n",
    "        'addr1', \n",
    "        'addr2',\n",
    "        'P_emaildomain',\n",
    "        'R_emaildomain',\n",
    "        'DeviceType',\n",
    "        'DeviceInfo',\n",
    "    ]\n",
    "    for i in range(1,7):\n",
    "        features.append(f'card{i}')\n",
    "    for i in range(1,10):\n",
    "        features.append(f'M{i}')\n",
    "    for i in range(12,39):\n",
    "        features.append(f'id_{i}')\n",
    "    return features\n",
    "\n",
    "def correcting_data_types(data, features):\n",
    "    for i in data:\n",
    "        if i in features:\n",
    "            data[i] = data[i].astype(\"string\")\n",
    "        else:\n",
    "            data[i] = pd.to_numeric(data[i])\n",
    "    return data\n",
    "\n",
    "def fill_missing_values(data):\n",
    "    for column in  data:\n",
    "        if data[column].dtype.name == 'string':\n",
    "            data[column].fillna('not available', inplace=True)\n",
    "        else:\n",
    "            mean = data[column].mean()\n",
    "            if str(mean) == 'nan':\n",
    "                data[column].fillna(0, inplace=True)\n",
    "            else:\n",
    "                data[column].fillna(mean, inplace=True)\n",
    "    return data\n",
    "\n",
    "def label_encode_categorical_features(data, features):\n",
    "    encoder = LabelEncoder()\n",
    "    for category in features:\n",
    "        data[category] = encoder.fit_transform(data[category])\n",
    "    return data\n",
    "\n",
    "\n",
    "def cleaning_data(data, categorical_features):\n",
    "    data = correcting_data_types(data=data, features=categorical_features)\n",
    "    data = fill_missing_values(data=data)\n",
    "    data = label_encode_categorical_features(data, categorical_features)\n",
    "    na_cols = [col for col in data.columns if data[col].isna().unique()[0] == True and len(data[col].isna().unique()) == 1]\n",
    "    data = data.drop(na_cols, axis=1)\n",
    "    return data\n",
    "\n",
    "# clean_data = cleaning_data(data, get_all_categorical_features())"
   ]
  },
  {
   "cell_type": "code",
   "execution_count": 2,
   "metadata": {},
   "outputs": [],
   "source": [
    "clean_data = pd.read_csv('./data/clean/merged_train_n_identity.csv', index_col='TransactionID')\n",
    "\n",
    "x = clean_data.drop(['isFraud'], axis=1)\n",
    "y = clean_data['isFraud']\n",
    "\n",
    "rus = RandomUnderSampler()\n",
    "x_sampled, y_sampled = rus.fit_resample(x,y)\n",
    "\n",
    "\n",
    "\n",
    "def normilise(x_data):\n",
    "    norm = Normalizer()\n",
    "    x_data = norm.fit_transform(x_data)\n",
    "    std = StandardScaler()\n",
    "    x_data = std.fit_transform(x_data)\n",
    "    return x_data\n",
    "\n",
    "x_norm = normilise(x_sampled)"
   ]
  },
  {
   "cell_type": "code",
   "execution_count": 54,
   "metadata": {},
   "outputs": [
    {
     "data": {
      "text/plain": [
       "array([[-0.57077835,  0.22806508, -0.21484204, ..., -0.4376945 ,\n",
       "        -0.12002731, -0.39051332],\n",
       "       [-0.23350285,  0.02882455, -0.39511017, ..., -0.4376945 ,\n",
       "        -0.03638454, -0.31802316],\n",
       "       [ 0.10742281,  0.21823539, -0.30607757, ...,  0.18574431,\n",
       "         0.47715707, -0.24378171],\n",
       "       ...,\n",
       "       [-0.98691621,  0.22843669, -0.36508576, ..., -0.4376945 ,\n",
       "        -0.2255314 , -0.52978326],\n",
       "       [-0.98695271,  0.22800137, -0.34089705, ..., -0.3288794 ,\n",
       "        -0.22553598, -0.47885563],\n",
       "       [-0.98697362,  0.22870089, -0.22012388, ..., -0.4376945 ,\n",
       "        -0.22556112, -0.59858128]])"
      ]
     },
     "execution_count": 54,
     "metadata": {},
     "output_type": "execute_result"
    }
   ],
   "source": [
    "x_norm"
   ]
  },
  {
   "cell_type": "code",
   "execution_count": 3,
   "metadata": {},
   "outputs": [],
   "source": [
    "x_train, x_test, y_train, y_test = train_test_split(x_norm, y_sampled, shuffle=True, test_size=.3)"
   ]
  },
  {
   "cell_type": "code",
   "execution_count": 4,
   "metadata": {},
   "outputs": [
    {
     "name": "stderr",
     "output_type": "stream",
     "text": [
      "2021-07-19 14:00:20.015795: I tensorflow/stream_executor/platform/default/dso_loader.cc:53] Successfully opened dynamic library libcuda.so.1\n",
      "2021-07-19 14:00:20.019087: E tensorflow/stream_executor/cuda/cuda_driver.cc:328] failed call to cuInit: CUDA_ERROR_UNKNOWN: unknown error\n",
      "2021-07-19 14:00:20.019160: I tensorflow/stream_executor/cuda/cuda_diagnostics.cc:156] kernel driver does not appear to be running on this host (pop-os): /proc/driver/nvidia/version does not exist\n",
      "2021-07-19 14:00:20.236401: I tensorflow/core/profiler/lib/profiler_session.cc:126] Profiler session initializing.\n",
      "2021-07-19 14:00:20.236652: I tensorflow/core/profiler/lib/profiler_session.cc:141] Profiler session started.\n",
      "2021-07-19 14:00:20.240039: I tensorflow/core/profiler/lib/profiler_session.cc:159] Profiler session tear down.\n",
      "2021-07-19 14:00:20.399873: I tensorflow/compiler/mlir/mlir_graph_optimization_pass.cc:176] None of the MLIR Optimization Passes are enabled (registered 2)\n",
      "2021-07-19 14:00:20.419702: I tensorflow/core/platform/profile_utils/cpu_utils.cc:114] CPU Frequency: 2793635000 Hz\n"
     ]
    },
    {
     "name": "stdout",
     "output_type": "stream",
     "text": [
      "Epoch 1/50\n",
      "  3/223 [..............................] - ETA: 24s - loss: 0.6906 - accuracy: 0.5052"
     ]
    },
    {
     "name": "stderr",
     "output_type": "stream",
     "text": [
      "2021-07-19 14:00:22.811234: I tensorflow/core/profiler/lib/profiler_session.cc:126] Profiler session initializing.\n",
      "2021-07-19 14:00:22.811960: I tensorflow/core/profiler/lib/profiler_session.cc:141] Profiler session started.\n",
      "2021-07-19 14:00:22.857301: I tensorflow/core/profiler/lib/profiler_session.cc:66] Profiler session collecting data.\n",
      "2021-07-19 14:00:22.865257: I tensorflow/core/profiler/lib/profiler_session.cc:159] Profiler session tear down.\n",
      "2021-07-19 14:00:22.872964: I tensorflow/core/profiler/rpc/client/save_profile.cc:137] Creating directory: logs/fit/20210719-140020/train/plugins/profile/2021_07_19_14_00_22\n",
      "2021-07-19 14:00:22.875800: I tensorflow/core/profiler/rpc/client/save_profile.cc:143] Dumped gzipped tool data for trace.json.gz to logs/fit/20210719-140020/train/plugins/profile/2021_07_19_14_00_22/pop-os.trace.json.gz\n",
      "2021-07-19 14:00:22.909064: I tensorflow/core/profiler/rpc/client/save_profile.cc:137] Creating directory: logs/fit/20210719-140020/train/plugins/profile/2021_07_19_14_00_22\n",
      "2021-07-19 14:00:22.910063: I tensorflow/core/profiler/rpc/client/save_profile.cc:143] Dumped gzipped tool data for memory_profile.json.gz to logs/fit/20210719-140020/train/plugins/profile/2021_07_19_14_00_22/pop-os.memory_profile.json.gz\n",
      "2021-07-19 14:00:22.911925: I tensorflow/core/profiler/rpc/client/capture_profile.cc:251] Creating directory: logs/fit/20210719-140020/train/plugins/profile/2021_07_19_14_00_22Dumped tool data for xplane.pb to logs/fit/20210719-140020/train/plugins/profile/2021_07_19_14_00_22/pop-os.xplane.pb\n",
      "Dumped tool data for overview_page.pb to logs/fit/20210719-140020/train/plugins/profile/2021_07_19_14_00_22/pop-os.overview_page.pb\n",
      "Dumped tool data for input_pipeline.pb to logs/fit/20210719-140020/train/plugins/profile/2021_07_19_14_00_22/pop-os.input_pipeline.pb\n",
      "Dumped tool data for tensorflow_stats.pb to logs/fit/20210719-140020/train/plugins/profile/2021_07_19_14_00_22/pop-os.tensorflow_stats.pb\n",
      "Dumped tool data for kernel_stats.pb to logs/fit/20210719-140020/train/plugins/profile/2021_07_19_14_00_22/pop-os.kernel_stats.pb\n",
      "\n"
     ]
    },
    {
     "name": "stdout",
     "output_type": "stream",
     "text": [
      "223/223 [==============================] - 14s 51ms/step - loss: 0.6776 - accuracy: 0.6057 - val_loss: 0.6650 - val_accuracy: 0.6360\n",
      "Epoch 2/50\n",
      "223/223 [==============================] - 9s 42ms/step - loss: 0.6503 - accuracy: 0.6558 - val_loss: 0.6362 - val_accuracy: 0.6637\n",
      "Epoch 3/50\n",
      "223/223 [==============================] - 7s 32ms/step - loss: 0.6128 - accuracy: 0.6796 - val_loss: 0.5923 - val_accuracy: 0.7117\n",
      "Epoch 4/50\n",
      "223/223 [==============================] - 8s 34ms/step - loss: 0.5626 - accuracy: 0.7319 - val_loss: 0.5441 - val_accuracy: 0.7552\n",
      "Epoch 5/50\n",
      "223/223 [==============================] - 8s 36ms/step - loss: 0.5164 - accuracy: 0.7612 - val_loss: 0.5078 - val_accuracy: 0.7703\n",
      "Epoch 6/50\n",
      "223/223 [==============================] - 7s 33ms/step - loss: 0.4836 - accuracy: 0.7750 - val_loss: 0.4812 - val_accuracy: 0.7811\n",
      "Epoch 7/50\n",
      "223/223 [==============================] - 8s 34ms/step - loss: 0.4603 - accuracy: 0.7867 - val_loss: 0.4648 - val_accuracy: 0.7842\n",
      "Epoch 8/50\n",
      "223/223 [==============================] - 8s 34ms/step - loss: 0.4448 - accuracy: 0.7891 - val_loss: 0.4539 - val_accuracy: 0.7861\n",
      "Epoch 9/50\n",
      "223/223 [==============================] - 8s 38ms/step - loss: 0.4326 - accuracy: 0.7948 - val_loss: 0.4396 - val_accuracy: 0.8006\n",
      "Epoch 10/50\n",
      "223/223 [==============================] - 7s 34ms/step - loss: 0.4229 - accuracy: 0.8011 - val_loss: 0.4343 - val_accuracy: 0.7987\n",
      "Epoch 11/50\n",
      "223/223 [==============================] - 8s 34ms/step - loss: 0.4149 - accuracy: 0.8076 - val_loss: 0.4262 - val_accuracy: 0.8076\n",
      "Epoch 12/50\n",
      "223/223 [==============================] - 8s 34ms/step - loss: 0.4088 - accuracy: 0.8107 - val_loss: 0.4204 - val_accuracy: 0.8050\n",
      "Epoch 13/50\n",
      "223/223 [==============================] - 8s 37ms/step - loss: 0.4003 - accuracy: 0.8151 - val_loss: 0.4155 - val_accuracy: 0.8183\n",
      "Epoch 14/50\n",
      "223/223 [==============================] - 7s 32ms/step - loss: 0.3958 - accuracy: 0.8145 - val_loss: 0.4122 - val_accuracy: 0.8227\n",
      "Epoch 15/50\n",
      "223/223 [==============================] - 8s 37ms/step - loss: 0.3903 - accuracy: 0.8199 - val_loss: 0.4074 - val_accuracy: 0.8164\n",
      "Epoch 16/50\n",
      "223/223 [==============================] - 9s 38ms/step - loss: 0.3861 - accuracy: 0.8200 - val_loss: 0.4038 - val_accuracy: 0.8259\n",
      "Epoch 17/50\n",
      "223/223 [==============================] - 9s 39ms/step - loss: 0.3816 - accuracy: 0.8241 - val_loss: 0.4009 - val_accuracy: 0.8189\n",
      "Epoch 18/50\n",
      "223/223 [==============================] - 8s 35ms/step - loss: 0.3786 - accuracy: 0.8235 - val_loss: 0.4011 - val_accuracy: 0.8278\n",
      "Epoch 19/50\n",
      "223/223 [==============================] - 8s 38ms/step - loss: 0.3747 - accuracy: 0.8277 - val_loss: 0.3979 - val_accuracy: 0.8322\n",
      "Epoch 20/50\n",
      "223/223 [==============================] - 8s 35ms/step - loss: 0.3706 - accuracy: 0.8317 - val_loss: 0.3949 - val_accuracy: 0.8366\n",
      "Epoch 21/50\n",
      "223/223 [==============================] - 8s 36ms/step - loss: 0.3683 - accuracy: 0.8321 - val_loss: 0.3924 - val_accuracy: 0.8252\n",
      "Epoch 22/50\n",
      "223/223 [==============================] - 8s 36ms/step - loss: 0.3643 - accuracy: 0.8331 - val_loss: 0.3898 - val_accuracy: 0.8334\n",
      "Epoch 23/50\n",
      "223/223 [==============================] - 8s 35ms/step - loss: 0.3618 - accuracy: 0.8359 - val_loss: 0.3904 - val_accuracy: 0.8328\n",
      "Epoch 24/50\n",
      "223/223 [==============================] - 7s 32ms/step - loss: 0.3577 - accuracy: 0.8377 - val_loss: 0.3903 - val_accuracy: 0.8221\n",
      "Epoch 25/50\n",
      "223/223 [==============================] - 8s 38ms/step - loss: 0.3552 - accuracy: 0.8391 - val_loss: 0.3852 - val_accuracy: 0.8347\n",
      "Epoch 26/50\n",
      "223/223 [==============================] - 8s 35ms/step - loss: 0.3526 - accuracy: 0.8410 - val_loss: 0.3839 - val_accuracy: 0.8315\n",
      "Epoch 27/50\n",
      "223/223 [==============================] - 8s 37ms/step - loss: 0.3493 - accuracy: 0.8410 - val_loss: 0.3929 - val_accuracy: 0.8196\n",
      "Epoch 28/50\n",
      "223/223 [==============================] - 7s 33ms/step - loss: 0.3466 - accuracy: 0.8447 - val_loss: 0.3964 - val_accuracy: 0.8151\n",
      "Epoch 29/50\n",
      "223/223 [==============================] - 8s 35ms/step - loss: 0.3452 - accuracy: 0.8442 - val_loss: 0.3824 - val_accuracy: 0.8290\n",
      "Epoch 30/50\n",
      "223/223 [==============================] - 8s 37ms/step - loss: 0.3430 - accuracy: 0.8454 - val_loss: 0.3775 - val_accuracy: 0.8442\n",
      "Epoch 31/50\n",
      "223/223 [==============================] - 8s 37ms/step - loss: 0.3397 - accuracy: 0.8482 - val_loss: 0.3762 - val_accuracy: 0.8442\n",
      "Epoch 32/50\n",
      "223/223 [==============================] - 8s 34ms/step - loss: 0.3375 - accuracy: 0.8462 - val_loss: 0.3756 - val_accuracy: 0.8410\n",
      "Epoch 33/50\n",
      "223/223 [==============================] - 8s 37ms/step - loss: 0.3350 - accuracy: 0.8491 - val_loss: 0.3757 - val_accuracy: 0.8372\n",
      "Epoch 34/50\n",
      "223/223 [==============================] - 8s 34ms/step - loss: 0.3327 - accuracy: 0.8506 - val_loss: 0.3732 - val_accuracy: 0.8391\n",
      "Epoch 35/50\n",
      "223/223 [==============================] - 7s 34ms/step - loss: 0.3312 - accuracy: 0.8537 - val_loss: 0.3708 - val_accuracy: 0.8429\n",
      "Epoch 36/50\n",
      "223/223 [==============================] - 8s 37ms/step - loss: 0.3284 - accuracy: 0.8528 - val_loss: 0.3704 - val_accuracy: 0.8442\n",
      "Epoch 37/50\n",
      "223/223 [==============================] - 8s 38ms/step - loss: 0.3262 - accuracy: 0.8547 - val_loss: 0.3684 - val_accuracy: 0.8448\n",
      "Epoch 38/50\n",
      "223/223 [==============================] - 8s 36ms/step - loss: 0.3245 - accuracy: 0.8536 - val_loss: 0.3687 - val_accuracy: 0.8429\n",
      "Epoch 39/50\n",
      "223/223 [==============================] - 9s 40ms/step - loss: 0.3224 - accuracy: 0.8567 - val_loss: 0.3733 - val_accuracy: 0.8315\n",
      "Epoch 40/50\n",
      "223/223 [==============================] - 9s 42ms/step - loss: 0.3212 - accuracy: 0.8567 - val_loss: 0.3655 - val_accuracy: 0.8442\n",
      "Epoch 41/50\n",
      "223/223 [==============================] - 10s 46ms/step - loss: 0.3204 - accuracy: 0.8554 - val_loss: 0.3643 - val_accuracy: 0.8448\n",
      "Epoch 42/50\n",
      "223/223 [==============================] - 9s 39ms/step - loss: 0.3164 - accuracy: 0.8595 - val_loss: 0.3658 - val_accuracy: 0.8429\n",
      "Epoch 43/50\n",
      "223/223 [==============================] - 10s 45ms/step - loss: 0.3146 - accuracy: 0.8614 - val_loss: 0.3665 - val_accuracy: 0.8423\n",
      "Epoch 44/50\n",
      "223/223 [==============================] - 9s 40ms/step - loss: 0.3128 - accuracy: 0.8630 - val_loss: 0.3665 - val_accuracy: 0.8391\n",
      "Epoch 45/50\n",
      "223/223 [==============================] - 8s 34ms/step - loss: 0.3111 - accuracy: 0.8614 - val_loss: 0.3610 - val_accuracy: 0.8486\n",
      "Epoch 46/50\n",
      "223/223 [==============================] - 8s 37ms/step - loss: 0.3103 - accuracy: 0.8635 - val_loss: 0.3663 - val_accuracy: 0.8454\n",
      "Epoch 47/50\n",
      "223/223 [==============================] - 8s 35ms/step - loss: 0.3099 - accuracy: 0.8633 - val_loss: 0.3595 - val_accuracy: 0.8498\n",
      "Epoch 48/50\n",
      "223/223 [==============================] - 8s 35ms/step - loss: 0.3059 - accuracy: 0.8658 - val_loss: 0.3599 - val_accuracy: 0.8492\n",
      "Epoch 49/50\n",
      "223/223 [==============================] - 8s 35ms/step - loss: 0.3052 - accuracy: 0.8670 - val_loss: 0.3598 - val_accuracy: 0.8473\n",
      "Epoch 50/50\n",
      "223/223 [==============================] - 8s 38ms/step - loss: 0.3035 - accuracy: 0.8668 - val_loss: 0.3563 - val_accuracy: 0.8511\n"
     ]
    },
    {
     "ename": "NameError",
     "evalue": "name 'plt' is not defined",
     "output_type": "error",
     "traceback": [
      "\u001b[0;31m---------------------------------------------------------------------------\u001b[0m",
      "\u001b[0;31mNameError\u001b[0m                                 Traceback (most recent call last)",
      "\u001b[0;32m/tmp/ipykernel_251578/1748704376.py\u001b[0m in \u001b[0;36m<module>\u001b[0;34m\u001b[0m\n\u001b[1;32m     22\u001b[0m \u001b[0;31m# plt.plot(x_axis, hist.history['loss'])\u001b[0m\u001b[0;34m\u001b[0m\u001b[0;34m\u001b[0m\u001b[0;34m\u001b[0m\u001b[0m\n\u001b[1;32m     23\u001b[0m \u001b[0;31m# plt.plot(x_axis, hist.history['accuracy'])\u001b[0m\u001b[0;34m\u001b[0m\u001b[0;34m\u001b[0m\u001b[0;34m\u001b[0m\u001b[0m\n\u001b[0;32m---> 24\u001b[0;31m \u001b[0mplt\u001b[0m\u001b[0;34m.\u001b[0m\u001b[0mplot\u001b[0m\u001b[0;34m(\u001b[0m\u001b[0mx_axis\u001b[0m\u001b[0;34m,\u001b[0m \u001b[0mhist\u001b[0m\u001b[0;34m.\u001b[0m\u001b[0mhistory\u001b[0m\u001b[0;34m[\u001b[0m\u001b[0;34m'val_loss'\u001b[0m\u001b[0;34m]\u001b[0m\u001b[0;34m,\u001b[0m \u001b[0mlabel\u001b[0m\u001b[0;34m=\u001b[0m\u001b[0;34m'Loss'\u001b[0m\u001b[0;34m)\u001b[0m\u001b[0;34m\u001b[0m\u001b[0;34m\u001b[0m\u001b[0m\n\u001b[0m\u001b[1;32m     25\u001b[0m \u001b[0mplt\u001b[0m\u001b[0;34m.\u001b[0m\u001b[0mplot\u001b[0m\u001b[0;34m(\u001b[0m\u001b[0mx_axis\u001b[0m\u001b[0;34m,\u001b[0m \u001b[0mhist\u001b[0m\u001b[0;34m.\u001b[0m\u001b[0mhistory\u001b[0m\u001b[0;34m[\u001b[0m\u001b[0;34m'val_accuracy'\u001b[0m\u001b[0;34m]\u001b[0m\u001b[0;34m,\u001b[0m \u001b[0mlabel\u001b[0m\u001b[0;34m=\u001b[0m\u001b[0;34m'Accuracy'\u001b[0m\u001b[0;34m)\u001b[0m\u001b[0;34m\u001b[0m\u001b[0;34m\u001b[0m\u001b[0m\n\u001b[1;32m     26\u001b[0m \u001b[0mplt\u001b[0m\u001b[0;34m.\u001b[0m\u001b[0mshow\u001b[0m\u001b[0;34m(\u001b[0m\u001b[0;34m)\u001b[0m\u001b[0;34m\u001b[0m\u001b[0;34m\u001b[0m\u001b[0m\n",
      "\u001b[0;31mNameError\u001b[0m: name 'plt' is not defined"
     ]
    }
   ],
   "source": [
    "model = Sequential([\n",
    "    Dense(512, activation=\"relu\", input_shape=x_train.shape[1:]),\n",
    "    Dense(256, activation=\"relu\"),\n",
    "    Dense(128, activation=\"relu\"),\n",
    "    Dense(128, activation=\"relu\"),\n",
    "    Dense(128, activation=\"relu\"),\n",
    "    Dense(128, activation=\"relu\"),\n",
    "    Dense(64, activation=\"relu\"),\n",
    "    Dense(1, activation=\"sigmoid\"),\n",
    "])\n",
    "model.compile(optimizer=Adam(learning_rate=0.00001), loss='binary_crossentropy', metrics=['accuracy'])\n",
    "# model.fit(x=x_train, y=y_train, epochs=5, batch_size=64, validation_split=.2)\n",
    "epochs = 50\n",
    "\n",
    "log_dir = \"logs/fit/\" + datetime.datetime.now().strftime(\"%Y%m%d-%H%M%S\")\n",
    "\n",
    "tensorboard_callback = TensorBoard(log_dir=log_dir, histogram_freq=1)\n",
    "\n",
    "hist = model.fit(x=x_train, y=y_train, epochs=epochs, batch_size=64, validation_split=.1, callbacks=[tensorboard_callback])\n",
    "x_axis = range(1,epochs+1)\n",
    "\n"
   ]
  },
  {
   "cell_type": "code",
   "execution_count": 6,
   "metadata": {},
   "outputs": [
    {
     "name": "stdout",
     "output_type": "stream",
     "text": [
      "0.5136209689294655\n",
      "0.03786775415088843\n"
     ]
    }
   ],
   "source": [
    "y_pred = model.predict(x_test)\n",
    "yp = [int(arr[0]) for arr in y_pred]\n",
    "print(accuracy_score(y_true=y_test, y_pred=yp))\n",
    "print(f1_score(y_true=y_test, y_pred=yp))"
   ]
  },
  {
   "cell_type": "code",
   "execution_count": null,
   "metadata": {},
   "outputs": [],
   "source": []
  },
  {
   "cell_type": "code",
   "execution_count": 5,
   "metadata": {},
   "outputs": [
    {
     "data": {
      "image/png": "[encoded data removed]",
      "text/plain": [
       "<Figure size 432x288 with 1 Axes>"
      ]
     },
     "metadata": {
      "needs_background": "light"
     },
     "output_type": "display_data"
    }
   ],
   "source": [
    "from matplotlib import pyplot as plt\n",
    "# plt.plot(x_axis, hist.history['loss'])\n",
    "# plt.plot(x_axis, hist.history['accuracy'])\n",
    "plt.plot(x_axis, hist.history['val_loss'], label='Loss')\n",
    "plt.plot(x_axis, hist.history['val_accuracy'], label='Accuracy')\n",
    "plt.show()\n"
   ]
  },
  {
   "cell_type": "code",
   "execution_count": null,
   "metadata": {},
   "outputs": [],
   "source": []
  },
  {
   "cell_type": "code",
   "execution_count": null,
   "metadata": {},
   "outputs": [],
   "source": []
  },
  {
   "cell_type": "code",
   "execution_count": null,
   "metadata": {},
   "outputs": [],
   "source": []
  },
  {
   "cell_type": "code",
   "execution_count": null,
   "metadata": {},
   "outputs": [],
   "source": []
  },
  {
   "cell_type": "code",
   "execution_count": null,
   "metadata": {},
   "outputs": [],
   "source": []
  },
  {
   "cell_type": "markdown",
   "metadata": {},
   "source": [
    "## keras tuner"
   ]
  },
  {
   "cell_type": "code",
   "execution_count": 44,
   "metadata": {},
   "outputs": [],
   "source": [
    "from keras_tuner.tuners import RandomSearch\n",
    "import time"
   ]
  },
  {
   "cell_type": "code",
   "execution_count": 45,
   "metadata": {},
   "outputs": [
    {
     "name": "stdout",
     "output_type": "stream",
     "text": [
      "Trial 5 Complete [00h 00m 07s]\n",
      "val_accuracy: 0.7976190447807312\n",
      "\n",
      "Best val_accuracy So Far: 0.8285714387893677\n",
      "Total elapsed time: 00h 00m 36s\n",
      "INFO:tensorflow:Oracle triggered exit\n"
     ]
    }
   ],
   "source": [
    "def build_model(hp):\n",
    "    model = Sequential()\n",
    "    model.add(Dense(hp.Int('input_units', min_value=32, max_value=512, step=32), activation='relu', input_shape=x_train.shape[1:]))\n",
    "\n",
    "    for i in range(hp.Int('num_layers', 1, 20)):\n",
    "        model.add(Dense(hp.Int(f'units_{i}', min_value=32, max_value=512, step=32), activation='relu'))\n",
    "\n",
    "    model.add(Dense(1, activation='sigmoid'))\n",
    "\n",
    "    loss = BinaryCrossentropy()\n",
    "    model.compile(optimizer='adam', loss=loss, metrics=['accuracy'])\n",
    "    return model\n",
    "\n",
    "LOG_DIR = f'logs/tuner/session-{int(time.time())}'\n",
    "\n",
    "tuner = RandomSearch(\n",
    "    build_model,\n",
    "    objective='val_accuracy',\n",
    "    max_trials=5,\n",
    "    executions_per_trial=2,\n",
    "    directory=LOG_DIR\n",
    ")\n",
    "\n",
    "tuner.search(x=x_train, y=y_train, epochs=5, batch_size=64, validation_split=.2)"
   ]
  },
  {
   "cell_type": "code",
   "execution_count": 46,
   "metadata": {},
   "outputs": [],
   "source": [
    "best = tuner.get_best_models()[0]\n",
    "y_pred = np.argmax(best.predict(x_test), axis=-1).astype('int')"
   ]
  },
  {
   "cell_type": "code",
   "execution_count": 52,
   "metadata": {},
   "outputs": [
    {
     "data": {
      "text/plain": [
       "0.0"
      ]
     },
     "execution_count": 52,
     "metadata": {},
     "output_type": "execute_result"
    }
   ],
   "source": [
    "from sklearn\n",
    "f1_score(y_test, y_pred)"
   ]
  },
  {
   "cell_type": "code",
   "execution_count": 51,
   "metadata": {},
   "outputs": [
    {
     "data": {
      "text/plain": [
       "array([0, 0, 0, 0, 0, 0, 0, 0, 0, 0, 0, 0, 0, 0, 0, 0, 0, 0, 0, 0, 0, 0,\n",
       "       0, 0, 0, 0, 0, 0, 0, 0, 0, 0, 0, 0, 0, 0, 0, 0, 0, 0, 0, 0, 0, 0,\n",
       "       0, 0, 0, 0, 0, 0, 0, 0, 0, 0, 0, 0, 0, 0, 0, 0, 0, 0, 0, 0, 0, 0,\n",
       "       0, 0, 0, 0, 0, 0, 0, 0, 0, 0, 0, 0, 0, 0, 0, 0, 0, 0, 0, 0, 0, 0,\n",
       "       0, 0, 0, 0, 0, 0, 0, 0, 0, 0, 0, 0, 0, 0, 0, 0, 0, 0, 0, 0, 0, 0,\n",
       "       0, 0, 0, 0, 0, 0, 0, 0, 0, 0, 0, 0, 0, 0, 0, 0, 0, 0, 0, 0, 0, 0,\n",
       "       0, 0, 0, 0, 0, 0, 0, 0, 0, 0, 0, 0, 0, 0, 0, 0, 0, 0, 0, 0, 0, 0,\n",
       "       0, 0, 0, 0, 0, 0, 0, 0, 0, 0, 0, 0, 0, 0, 0, 0, 0, 0, 0, 0, 0, 0,\n",
       "       0, 0, 0, 0, 0, 0, 0, 0, 0, 0, 0, 0, 0, 0, 0, 0, 0, 0, 0, 0, 0, 0,\n",
       "       0, 0, 0, 0, 0, 0, 0, 0, 0, 0, 0, 0, 0, 0, 0, 0, 0, 0, 0, 0, 0, 0,\n",
       "       0, 0, 0, 0, 0, 0, 0, 0, 0, 0, 0, 0, 0, 0, 0, 0, 0, 0, 0, 0, 0, 0,\n",
       "       0, 0, 0, 0, 0, 0, 0, 0, 0, 0, 0, 0, 0, 0, 0, 0, 0, 0, 0, 0, 0, 0,\n",
       "       0, 0, 0, 0, 0, 0, 0, 0, 0, 0, 0, 0, 0, 0, 0, 0, 0, 0, 0, 0, 0, 0,\n",
       "       0, 0, 0, 0, 0, 0, 0, 0, 0, 0, 0, 0, 0, 0, 0, 0, 0, 0, 0, 0, 0, 0,\n",
       "       0, 0, 0, 0, 0, 0, 0, 0, 0, 0, 0, 0, 0, 0, 0, 0, 0, 0, 0, 0, 0, 0,\n",
       "       0, 0, 0, 0, 0, 0, 0, 0, 0, 0, 0, 0, 0, 0, 0, 0, 0, 0, 0, 0, 0, 0,\n",
       "       0, 0, 0, 0, 0, 0, 0, 0, 0, 0, 0, 0, 0, 0, 0, 0, 0, 0, 0, 0, 0, 0,\n",
       "       0, 0, 0, 0, 0, 0, 0, 0, 0, 0, 0, 0, 0, 0, 0, 0, 0, 0, 0, 0, 0, 0,\n",
       "       0, 0, 0, 0, 0, 0, 0, 0, 0, 0, 0, 0, 0, 0, 0, 0, 0, 0, 0, 0, 0, 0,\n",
       "       0, 0, 0, 0, 0, 0, 0, 0, 0, 0, 0, 0, 0, 0, 0, 0, 0, 0, 0, 0, 0, 0,\n",
       "       0, 0, 0, 0, 0, 0, 0, 0, 0, 0, 0, 0, 0, 0, 0, 0, 0, 0, 0, 0, 0, 0,\n",
       "       0, 0, 0, 0, 0, 0, 0, 0, 0, 0, 0, 0, 0, 0, 0, 0, 0, 0, 0, 0, 0, 0,\n",
       "       0, 0, 0, 0, 0, 0, 0, 0, 0, 0, 0, 0, 0, 0, 0, 0, 0, 0, 0, 0, 0, 0,\n",
       "       0, 0, 0, 0, 0, 0, 0, 0, 0, 0, 0, 0, 0, 0, 0, 0, 0, 0, 0, 0, 0, 0,\n",
       "       0, 0, 0, 0, 0, 0, 0, 0, 0, 0, 0, 0, 0, 0, 0, 0, 0, 0, 0, 0, 0, 0,\n",
       "       0, 0, 0, 0, 0, 0, 0, 0, 0, 0, 0, 0, 0, 0, 0, 0, 0, 0, 0, 0, 0, 0,\n",
       "       0, 0, 0, 0, 0, 0, 0, 0, 0, 0, 0, 0, 0, 0, 0, 0, 0, 0, 0, 0, 0, 0,\n",
       "       0, 0, 0, 0, 0, 0, 0, 0, 0, 0, 0, 0, 0, 0, 0, 0, 0, 0, 0, 0, 0, 0,\n",
       "       0, 0, 0, 0, 0, 0, 0, 0, 0, 0, 0, 0, 0, 0, 0, 0, 0, 0, 0, 0, 0, 0,\n",
       "       0, 0, 0, 0, 0, 0, 0, 0, 0, 0, 0, 0, 0, 0, 0, 0, 0, 0, 0, 0, 0, 0,\n",
       "       0, 0, 0, 0, 0, 0, 0, 0, 0, 0, 0, 0, 0, 0, 0, 0, 0, 0, 0, 0, 0, 0,\n",
       "       0, 0, 0, 0, 0, 0, 0, 0, 0, 0, 0, 0, 0, 0, 0, 0, 0, 0, 0, 0, 0, 0,\n",
       "       0, 0, 0, 0, 0, 0, 0, 0, 0, 0, 0, 0, 0, 0, 0, 0, 0, 0, 0, 0, 0, 0,\n",
       "       0, 0, 0, 0, 0, 0, 0, 0, 0, 0, 0, 0, 0, 0, 0, 0, 0, 0, 0, 0, 0, 0,\n",
       "       0, 0, 0, 0, 0, 0, 0, 0, 0, 0, 0, 0, 0, 0, 0, 0, 0, 0, 0, 0, 0, 0,\n",
       "       0, 0, 0, 0, 0, 0, 0, 0, 0, 0, 0, 0, 0, 0, 0, 0, 0, 0, 0, 0, 0, 0,\n",
       "       0, 0, 0, 0, 0, 0, 0, 0, 0, 0, 0, 0, 0, 0, 0, 0, 0, 0, 0, 0, 0, 0,\n",
       "       0, 0, 0, 0, 0, 0, 0, 0, 0, 0, 0, 0, 0, 0, 0, 0, 0, 0, 0, 0, 0, 0,\n",
       "       0, 0, 0, 0, 0, 0, 0, 0, 0, 0, 0, 0, 0, 0, 0, 0, 0, 0, 0, 0, 0, 0,\n",
       "       0, 0, 0, 0, 0, 0, 0, 0, 0, 0, 0, 0, 0, 0, 0, 0, 0, 0, 0, 0, 0, 0,\n",
       "       0, 0, 0, 0, 0, 0, 0, 0, 0, 0, 0, 0, 0, 0, 0, 0, 0, 0, 0, 0])"
      ]
     },
     "execution_count": 51,
     "metadata": {},
     "output_type": "execute_result"
    }
   ],
   "source": [
    "y_pred"
   ]
  },
  {
   "cell_type": "code",
   "execution_count": 7,
   "metadata": {},
   "outputs": [],
   "source": [
    "from sklearn.ensemble import StackingClassifier, BaggingClassifier, VotingClassifier, RandomForestClassifier\n",
    "from sklearn.linear_model import LinearRegression\n",
    "from tensorflow.keras.wrappers.scikit_learn import KerasClassifier"
   ]
  },
  {
   "cell_type": "code",
   "execution_count": 16,
   "metadata": {},
   "outputs": [],
   "source": [
    "def get_network():\n",
    "    return model\n",
    "\n",
    "network = KerasClassifier(get_network, verbose=0,epochs=30)\n",
    "\n",
    "estimators = [LinearRegression(), RandomForestClassifier(), network]\n",
    "\n",
    "stacked = StackingClassifier(\n",
    "    estimators=[LinearRegression(), RandomForestClassifier(), network], \n",
    "    final_estimator=RandomForestClassifier()\n",
    ")\n",
    "stacked.fit(x_train, y_train)\n",
    "ypu = stacked.predict(x_test)\n",
    "f1_score(y_test, ypu)\n",
    "\n",
    "# bagging = BaggingClassifier(base_estimator=network)\n",
    "# voting = VotingClassifier(estimators=estimators)"
   ]
  },
  {
   "cell_type": "code",
   "execution_count": 17,
   "metadata": {},
   "outputs": [
    {
     "ename": "TypeError",
     "evalue": "'LinearRegression' object is not iterable",
     "output_type": "error",
     "traceback": [
      "\u001b[0;31m---------------------------------------------------------------------------\u001b[0m",
      "\u001b[0;31mTypeError\u001b[0m                                 Traceback (most recent call last)",
      "\u001b[0;32m/tmp/ipykernel_251578/2264533143.py\u001b[0m in \u001b[0;36m<module>\u001b[0;34m\u001b[0m\n\u001b[0;32m----> 1\u001b[0;31m \u001b[0mstacked\u001b[0m\u001b[0;34m.\u001b[0m\u001b[0mfit\u001b[0m\u001b[0;34m(\u001b[0m\u001b[0mx_train\u001b[0m\u001b[0;34m,\u001b[0m \u001b[0my_train\u001b[0m\u001b[0;34m)\u001b[0m\u001b[0;34m\u001b[0m\u001b[0;34m\u001b[0m\u001b[0m\n\u001b[0m",
      "\u001b[0;32m~/.local/lib/python3.8/site-packages/sklearn/ensemble/_stacking.py\u001b[0m in \u001b[0;36mfit\u001b[0;34m(self, X, y, sample_weight)\u001b[0m\n\u001b[1;32m    439\u001b[0m         \u001b[0mself\u001b[0m\u001b[0;34m.\u001b[0m\u001b[0m_le\u001b[0m \u001b[0;34m=\u001b[0m \u001b[0mLabelEncoder\u001b[0m\u001b[0;34m(\u001b[0m\u001b[0;34m)\u001b[0m\u001b[0;34m.\u001b[0m\u001b[0mfit\u001b[0m\u001b[0;34m(\u001b[0m\u001b[0my\u001b[0m\u001b[0;34m)\u001b[0m\u001b[0;34m\u001b[0m\u001b[0;34m\u001b[0m\u001b[0m\n\u001b[1;32m    440\u001b[0m         \u001b[0mself\u001b[0m\u001b[0;34m.\u001b[0m\u001b[0mclasses_\u001b[0m \u001b[0;34m=\u001b[0m \u001b[0mself\u001b[0m\u001b[0;34m.\u001b[0m\u001b[0m_le\u001b[0m\u001b[0;34m.\u001b[0m\u001b[0mclasses_\u001b[0m\u001b[0;34m\u001b[0m\u001b[0;34m\u001b[0m\u001b[0m\n\u001b[0;32m--> 441\u001b[0;31m         \u001b[0;32mreturn\u001b[0m \u001b[0msuper\u001b[0m\u001b[0;34m(\u001b[0m\u001b[0;34m)\u001b[0m\u001b[0;34m.\u001b[0m\u001b[0mfit\u001b[0m\u001b[0;34m(\u001b[0m\u001b[0mX\u001b[0m\u001b[0;34m,\u001b[0m \u001b[0mself\u001b[0m\u001b[0;34m.\u001b[0m\u001b[0m_le\u001b[0m\u001b[0;34m.\u001b[0m\u001b[0mtransform\u001b[0m\u001b[0;34m(\u001b[0m\u001b[0my\u001b[0m\u001b[0;34m)\u001b[0m\u001b[0;34m,\u001b[0m \u001b[0msample_weight\u001b[0m\u001b[0;34m)\u001b[0m\u001b[0;34m\u001b[0m\u001b[0;34m\u001b[0m\u001b[0m\n\u001b[0m\u001b[1;32m    442\u001b[0m \u001b[0;34m\u001b[0m\u001b[0m\n\u001b[1;32m    443\u001b[0m     \u001b[0;34m@\u001b[0m\u001b[0mif_delegate_has_method\u001b[0m\u001b[0;34m(\u001b[0m\u001b[0mdelegate\u001b[0m\u001b[0;34m=\u001b[0m\u001b[0;34m'final_estimator_'\u001b[0m\u001b[0;34m)\u001b[0m\u001b[0;34m\u001b[0m\u001b[0;34m\u001b[0m\u001b[0m\n",
      "\u001b[0;32m~/.local/lib/python3.8/site-packages/sklearn/ensemble/_stacking.py\u001b[0m in \u001b[0;36mfit\u001b[0;34m(self, X, y, sample_weight)\u001b[0m\n\u001b[1;32m    137\u001b[0m         \u001b[0;31m# all_estimators contains all estimators, the one to be fitted and the\u001b[0m\u001b[0;34m\u001b[0m\u001b[0;34m\u001b[0m\u001b[0;34m\u001b[0m\u001b[0m\n\u001b[1;32m    138\u001b[0m         \u001b[0;31m# 'drop' string.\u001b[0m\u001b[0;34m\u001b[0m\u001b[0;34m\u001b[0m\u001b[0;34m\u001b[0m\u001b[0m\n\u001b[0;32m--> 139\u001b[0;31m         \u001b[0mnames\u001b[0m\u001b[0;34m,\u001b[0m \u001b[0mall_estimators\u001b[0m \u001b[0;34m=\u001b[0m \u001b[0mself\u001b[0m\u001b[0;34m.\u001b[0m\u001b[0m_validate_estimators\u001b[0m\u001b[0;34m(\u001b[0m\u001b[0;34m)\u001b[0m\u001b[0;34m\u001b[0m\u001b[0;34m\u001b[0m\u001b[0m\n\u001b[0m\u001b[1;32m    140\u001b[0m         \u001b[0mself\u001b[0m\u001b[0;34m.\u001b[0m\u001b[0m_validate_final_estimator\u001b[0m\u001b[0;34m(\u001b[0m\u001b[0;34m)\u001b[0m\u001b[0;34m\u001b[0m\u001b[0;34m\u001b[0m\u001b[0m\n\u001b[1;32m    141\u001b[0m \u001b[0;34m\u001b[0m\u001b[0m\n",
      "\u001b[0;32m~/.local/lib/python3.8/site-packages/sklearn/ensemble/_base.py\u001b[0m in \u001b[0;36m_validate_estimators\u001b[0;34m(self)\u001b[0m\n\u001b[1;32m    223\u001b[0m                 \u001b[0;34m\" of (string, estimator) tuples.\"\u001b[0m\u001b[0;34m\u001b[0m\u001b[0;34m\u001b[0m\u001b[0m\n\u001b[1;32m    224\u001b[0m             )\n\u001b[0;32m--> 225\u001b[0;31m         \u001b[0mnames\u001b[0m\u001b[0;34m,\u001b[0m \u001b[0mestimators\u001b[0m \u001b[0;34m=\u001b[0m \u001b[0mzip\u001b[0m\u001b[0;34m(\u001b[0m\u001b[0;34m*\u001b[0m\u001b[0mself\u001b[0m\u001b[0;34m.\u001b[0m\u001b[0mestimators\u001b[0m\u001b[0;34m)\u001b[0m\u001b[0;34m\u001b[0m\u001b[0;34m\u001b[0m\u001b[0m\n\u001b[0m\u001b[1;32m    226\u001b[0m         \u001b[0;31m# defined by MetaEstimatorMixin\u001b[0m\u001b[0;34m\u001b[0m\u001b[0;34m\u001b[0m\u001b[0;34m\u001b[0m\u001b[0m\n\u001b[1;32m    227\u001b[0m         \u001b[0mself\u001b[0m\u001b[0;34m.\u001b[0m\u001b[0m_validate_names\u001b[0m\u001b[0;34m(\u001b[0m\u001b[0mnames\u001b[0m\u001b[0;34m)\u001b[0m\u001b[0;34m\u001b[0m\u001b[0;34m\u001b[0m\u001b[0m\n",
      "\u001b[0;31mTypeError\u001b[0m: 'LinearRegression' object is not iterable"
     ]
    }
   ],
   "source": []
  },
  {
   "cell_type": "code",
   "execution_count": 11,
   "metadata": {},
   "outputs": [
    {
     "name": "stdout",
     "output_type": "stream",
     "text": [
      "  1/213 [..............................] - ETA: 11s"
     ]
    },
    {
     "name": "stderr",
     "output_type": "stream",
     "text": [
      "/home/admin/anaconda3/lib/python3.8/site-packages/tensorflow/python/keras/engine/sequential.py:455: UserWarning: `model.predict_classes()` is deprecated and will be removed after 2021-01-01. Please use instead:* `np.argmax(model.predict(x), axis=-1)`,   if your model does multi-class classification   (e.g. if it uses a `softmax` last-layer activation).* `(model.predict(x) > 0.5).astype(\"int32\")`,   if your model does binary classification   (e.g. if it uses a `sigmoid` last-layer activation).\n",
      "  warnings.warn('`model.predict_classes()` is deprecated and '\n"
     ]
    },
    {
     "name": "stdout",
     "output_type": "stream",
     "text": [
      "213/213 [==============================] - 2s 10ms/step\n"
     ]
    }
   ],
   "source": []
  },
  {
   "cell_type": "code",
   "execution_count": 13,
   "metadata": {},
   "outputs": [
    {
     "data": {
      "text/plain": [
       "0.8384"
      ]
     },
     "execution_count": 13,
     "metadata": {},
     "output_type": "execute_result"
    }
   ],
   "source": []
  },
  {
   "cell_type": "code",
   "execution_count": null,
   "metadata": {},
   "outputs": [],
   "source": []
  },
  {
   "cell_type": "code",
   "execution_count": null,
   "metadata": {},
   "outputs": [],
   "source": []
  },
  {
   "cell_type": "code",
   "execution_count": null,
   "metadata": {},
   "outputs": [],
   "source": []
  },
  {
   "cell_type": "code",
   "execution_count": null,
   "metadata": {},
   "outputs": [],
   "source": []
  },
  {
   "cell_type": "code",
   "execution_count": null,
   "metadata": {},
   "outputs": [],
   "source": []
  }
 ],
 "metadata": {
  "interpreter": {
   "hash": "09b73bda64f675c3a91bef090af289c3700a6e3a49c44ad64f57078cebbe1f7b"
  },
  "kernelspec": {
   "display_name": "Python 3 (ipykernel)",
   "language": "python",
   "name": "python3"
  },
  "language_info": {
   "codemirror_mode": {
    "name": "ipython",
    "version": 3
   },
   "file_extension": ".py",
   "mimetype": "text/x-python",
   "name": "python",
   "nbconvert_exporter": "python",
   "pygments_lexer": "ipython3",
   "version": "3.8.5"
  }
 },
 "nbformat": 4,
 "nbformat_minor": 4
}
