{
 "cells": [
  {
   "cell_type": "code",
   "execution_count": 1,
   "metadata": {},
   "outputs": [],
   "source": [
    "import pandas as pd\n",
    "from sklearn.preprocessing import LabelEncoder\n",
    "\n",
    "pd.options.display.max_columns = 1000\n",
    "pd.options.display.max_rows = 100"
   ]
  },
  {
   "cell_type": "code",
   "execution_count": 2,
   "metadata": {},
   "outputs": [],
   "source": [
    "train_transactions = pd.read_csv('../data/train_transaction.csv')\n",
    "train_identity = pd.read_csv('../data/train_identity.csv')\n",
    "train_data = pd.merge(train_transactions, train_identity, on=['TransactionID'])"
   ]
  },
  {
   "cell_type": "markdown",
   "source": [
    "### Before data Cleaning"
   ],
   "metadata": {
    "collapsed": false,
    "pycharm": {
     "name": "#%% md\n"
    }
   }
  },
  {
   "cell_type": "code",
   "execution_count": null,
   "outputs": [],
   "source": [
    "train_data.head()"
   ],
   "metadata": {
    "collapsed": false,
    "pycharm": {
     "name": "#%%\n"
    }
   }
  },
  {
   "cell_type": "markdown",
   "metadata": {
    "pycharm": {
     "name": "#%% md\n"
    }
   },
   "source": [
    "### Data Cleaning"
   ]
  },
  {
   "cell_type": "code",
   "execution_count": null,
   "outputs": [],
   "source": [
    "def get_all_categorical_features():\n",
    "    features = [\n",
    "        'ProductCD',\n",
    "        'addr1', \n",
    "        'addr2',\n",
    "        'P_emaildomain',\n",
    "        'R_emaildomain',\n",
    "        'DeviceType',\n",
    "        'DeviceInfo',\n",
    "    ]\n",
    "    for i in range(1,7):\n",
    "        features.append(f'card{i}')\n",
    "    for i in range(1,10):\n",
    "        features.append(f'M{i}')\n",
    "    for i in range(12,39):\n",
    "        features.append(f'id_{i}')\n",
    "    return features\n",
    "\n",
    "def correcting_data_types(data, features):\n",
    "    for i in data:\n",
    "        if i in features:\n",
    "            data[i] = data[i].astype(\"string\")\n",
    "        else:\n",
    "            data[i] = pd.to_numeric(data[i])\n",
    "    return data\n",
    "\n",
    "def fill_missing_values(data):\n",
    "    for column in  data:\n",
    "        if data[column].dtype.name == 'string':\n",
    "            data[column].fillna('not available', inplace=True)\n",
    "        else:\n",
    "            mean = data[column].mean()\n",
    "            if str(mean) == 'nan':\n",
    "                data[column].fillna(0, inplace=True)\n",
    "            else:\n",
    "                data[column].fillna(mean, inplace=True)\n",
    "    return data\n",
    "\n",
    "def cleaning_data(data, features):\n",
    "    data = correcting_data_types(data=data, features=get_all_categorical_features())\n",
    "    data = fill_missing_values(data=data)\n",
    "    data = data.drop(features, axis=1)\n",
    "    return data\n",
    "\n",
    "def label_encode_categorical_features(data, features):\n",
    "    encoder = LabelEncoder()\n",
    "    for category in features:\n",
    "        data[category] = encoder.fit_transform(data[category])\n",
    "    return data\n",
    "\n",
    "categorical_features = get_all_categorical_features()\n",
    "clean_data = cleaning_data(train_data, ['TransactionID', 'TransactionDT'])\n",
    "clean_data = label_encode_categorical_features(clean_data, categorical_features)\n",
    "clean_data.to_csv('../data/clean/merged_train_n_identity.csv')\n",
    "clean_data.head()\n"
   ],
   "metadata": {
    "collapsed": false,
    "pycharm": {
     "name": "#%%\n"
    }
   }
  },
  {
   "cell_type": "code",
   "execution_count": null,
   "metadata": {},
   "outputs": [],
   "source": [
    "clean_data.head(3)"
   ]
  },
  {
   "cell_type": "code",
   "execution_count": null,
   "metadata": {},
   "outputs": [],
   "source": []
  },
  {
   "cell_type": "code",
   "execution_count": null,
   "metadata": {},
   "outputs": [],
   "source": []
  }
 ],
 "metadata": {
  "kernelspec": {
   "name": "python3",
   "display_name": "Python 3.8.2 64-bit"
  },
  "language_info": {
   "codemirror_mode": {
    "name": "ipython",
    "version": 3
   },
   "file_extension": ".py",
   "mimetype": "text/x-python",
   "name": "python",
   "nbconvert_exporter": "python",
   "pygments_lexer": "ipython3",
   "version": "3.8.10"
  },
  "interpreter": {
   "hash": "916dbcbb3f70747c44a77c7bcd40155683ae19c65e1c03b4aa3499c5328201f1"
  }
 },
 "nbformat": 4,
 "nbformat_minor": 4
}